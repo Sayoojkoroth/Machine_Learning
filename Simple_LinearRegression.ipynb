{
 "cells": [
  {
   "cell_type": "code",
   "execution_count": 1,
   "metadata": {},
   "outputs": [],
   "source": [
    "import numpy as np\n",
    "import pandas as pd\n"
   ]
  },
  {
   "cell_type": "code",
   "execution_count": 27,
   "metadata": {},
   "outputs": [],
   "source": [
    "data = pd.read_csv(\"test.csv\")"
   ]
  },
  {
   "cell_type": "code",
   "execution_count": 28,
   "metadata": {},
   "outputs": [
    {
     "data": {
      "text/html": [
       "<div>\n",
       "<style scoped>\n",
       "    .dataframe tbody tr th:only-of-type {\n",
       "        vertical-align: middle;\n",
       "    }\n",
       "\n",
       "    .dataframe tbody tr th {\n",
       "        vertical-align: top;\n",
       "    }\n",
       "\n",
       "    .dataframe thead th {\n",
       "        text-align: right;\n",
       "    }\n",
       "</style>\n",
       "<table border=\"1\" class=\"dataframe\">\n",
       "  <thead>\n",
       "    <tr style=\"text-align: right;\">\n",
       "      <th></th>\n",
       "      <th>x</th>\n",
       "      <th>y</th>\n",
       "    </tr>\n",
       "  </thead>\n",
       "  <tbody>\n",
       "    <tr>\n",
       "      <th>0</th>\n",
       "      <td>77</td>\n",
       "      <td>79.775152</td>\n",
       "    </tr>\n",
       "    <tr>\n",
       "      <th>1</th>\n",
       "      <td>21</td>\n",
       "      <td>23.177279</td>\n",
       "    </tr>\n",
       "    <tr>\n",
       "      <th>2</th>\n",
       "      <td>22</td>\n",
       "      <td>25.609262</td>\n",
       "    </tr>\n",
       "    <tr>\n",
       "      <th>3</th>\n",
       "      <td>20</td>\n",
       "      <td>17.857388</td>\n",
       "    </tr>\n",
       "    <tr>\n",
       "      <th>4</th>\n",
       "      <td>36</td>\n",
       "      <td>41.849864</td>\n",
       "    </tr>\n",
       "    <tr>\n",
       "      <th>...</th>\n",
       "      <td>...</td>\n",
       "      <td>...</td>\n",
       "    </tr>\n",
       "    <tr>\n",
       "      <th>295</th>\n",
       "      <td>71</td>\n",
       "      <td>68.545888</td>\n",
       "    </tr>\n",
       "    <tr>\n",
       "      <th>296</th>\n",
       "      <td>46</td>\n",
       "      <td>47.334876</td>\n",
       "    </tr>\n",
       "    <tr>\n",
       "      <th>297</th>\n",
       "      <td>55</td>\n",
       "      <td>54.090637</td>\n",
       "    </tr>\n",
       "    <tr>\n",
       "      <th>298</th>\n",
       "      <td>62</td>\n",
       "      <td>63.297171</td>\n",
       "    </tr>\n",
       "    <tr>\n",
       "      <th>299</th>\n",
       "      <td>47</td>\n",
       "      <td>52.459467</td>\n",
       "    </tr>\n",
       "  </tbody>\n",
       "</table>\n",
       "<p>300 rows × 2 columns</p>\n",
       "</div>"
      ],
      "text/plain": [
       "      x          y\n",
       "0    77  79.775152\n",
       "1    21  23.177279\n",
       "2    22  25.609262\n",
       "3    20  17.857388\n",
       "4    36  41.849864\n",
       "..   ..        ...\n",
       "295  71  68.545888\n",
       "296  46  47.334876\n",
       "297  55  54.090637\n",
       "298  62  63.297171\n",
       "299  47  52.459467\n",
       "\n",
       "[300 rows x 2 columns]"
      ]
     },
     "execution_count": 28,
     "metadata": {},
     "output_type": "execute_result"
    }
   ],
   "source": [
    "data"
   ]
  },
  {
   "cell_type": "code",
   "execution_count": 30,
   "metadata": {},
   "outputs": [],
   "source": [
    "x = pd.DataFrame(data[\"x\"])"
   ]
  },
  {
   "cell_type": "code",
   "execution_count": 31,
   "metadata": {},
   "outputs": [],
   "source": [
    "y = pd.DataFrame(data[\"y\"])"
   ]
  },
  {
   "cell_type": "code",
   "execution_count": 32,
   "metadata": {},
   "outputs": [
    {
     "data": {
      "text/plain": [
       "(      x\n",
       " 0    77\n",
       " 1    21\n",
       " 2    22\n",
       " 3    20\n",
       " 4    36\n",
       " ..   ..\n",
       " 295  71\n",
       " 296  46\n",
       " 297  55\n",
       " 298  62\n",
       " 299  47\n",
       " \n",
       " [300 rows x 1 columns],\n",
       "              y\n",
       " 0    79.775152\n",
       " 1    23.177279\n",
       " 2    25.609262\n",
       " 3    17.857388\n",
       " 4    41.849864\n",
       " ..         ...\n",
       " 295  68.545888\n",
       " 296  47.334876\n",
       " 297  54.090637\n",
       " 298  63.297171\n",
       " 299  52.459467\n",
       " \n",
       " [300 rows x 1 columns])"
      ]
     },
     "execution_count": 32,
     "metadata": {},
     "output_type": "execute_result"
    }
   ],
   "source": [
    "x,y"
   ]
  },
  {
   "cell_type": "code",
   "execution_count": 33,
   "metadata": {},
   "outputs": [],
   "source": [
    "from matplotlib import pyplot as plt "
   ]
  },
  {
   "cell_type": "code",
   "execution_count": 44,
   "metadata": {},
   "outputs": [
    {
     "data": {
      "text/plain": [
       "[<matplotlib.lines.Line2D at 0x1a5b3423550>]"
      ]
     },
     "execution_count": 44,
     "metadata": {},
     "output_type": "execute_result"
    },
    {
     "data": {
      "image/png": "[encoded data removed]",
      "text/plain": [
       "<Figure size 432x288 with 1 Axes>"
      ]
     },
     "metadata": {
      "needs_background": "light"
     },
     "output_type": "display_data"
    }
   ],
   "source": [
    "plt.scatter(x,y)\n",
    "plt.plot(x_test,y_pred, color=\"red\")"
   ]
  },
  {
   "cell_type": "code",
   "execution_count": 35,
   "metadata": {},
   "outputs": [],
   "source": [
    "from sklearn.linear_model import LinearRegression"
   ]
  },
  {
   "cell_type": "code",
   "execution_count": 36,
   "metadata": {},
   "outputs": [],
   "source": [
    "from sklearn.model_selection import train_test_split"
   ]
  },
  {
   "cell_type": "code",
   "execution_count": 37,
   "metadata": {},
   "outputs": [],
   "source": [
    "x_train,x_test,y_train,y_test = train_test_split(x.values,y.values)"
   ]
  },
  {
   "cell_type": "code",
   "execution_count": 38,
   "metadata": {},
   "outputs": [],
   "source": [
    "lr = LinearRegression()"
   ]
  },
  {
   "cell_type": "code",
   "execution_count": 39,
   "metadata": {},
   "outputs": [
    {
     "data": {
      "text/plain": [
       "LinearRegression()"
      ]
     },
     "execution_count": 39,
     "metadata": {},
     "output_type": "execute_result"
    }
   ],
   "source": [
    "lr.fit(x_train,y_train)"
   ]
  },
  {
   "cell_type": "code",
   "execution_count": 40,
   "metadata": {},
   "outputs": [],
   "source": [
    "y_pred = lr.predict(x_test)"
   ]
  },
  {
   "cell_type": "code",
   "execution_count": 41,
   "metadata": {},
   "outputs": [
    {
     "data": {
      "text/plain": [
       "array([[27.96937629],\n",
       "       [89.69404652],\n",
       "       [66.4208102 ],\n",
       "       [93.74156587],\n",
       "       [56.3020118 ],\n",
       "       [62.37329084],\n",
       "       [14.81493837],\n",
       "       [69.45644972],\n",
       "       [97.78908523],\n",
       "       [14.81493837],\n",
       "       [37.07629485],\n",
       "       [37.07629485],\n",
       "       [90.70592636],\n",
       "       [43.14757388],\n",
       "       [49.21885292],\n",
       "       [27.96937629],\n",
       "       [69.45644972],\n",
       "       [ 3.68426013],\n",
       "       [86.658407  ],\n",
       "       [ 7.73177949],\n",
       "       [14.81493837],\n",
       "       [93.74156587],\n",
       "       [37.07629485],\n",
       "       [99.81284491],\n",
       "       [53.26637228],\n",
       "       [20.88621741],\n",
       "       [71.4802094 ],\n",
       "       [64.39705052],\n",
       "       [18.86245773],\n",
       "       [56.3020118 ],\n",
       "       [16.83869805],\n",
       "       [31.00501581],\n",
       "       [27.96937629],\n",
       "       [68.44456988],\n",
       "       [10.76741901],\n",
       "       [89.69404652],\n",
       "       [47.19509324],\n",
       "       [24.93373677],\n",
       "       [11.77929885],\n",
       "       [71.4802094 ],\n",
       "       [87.67028684],\n",
       "       [ 3.68426013],\n",
       "       [43.14757388],\n",
       "       [64.39705052],\n",
       "       [55.29013196],\n",
       "       [63.38517068],\n",
       "       [73.50396908],\n",
       "       [21.89809725],\n",
       "       [12.79117869],\n",
       "       [39.10005453],\n",
       "       [54.27825212],\n",
       "       [46.1832134 ],\n",
       "       [26.95749645],\n",
       "       [15.82681821],\n",
       "       [45.17133356],\n",
       "       [27.96937629],\n",
       "       [97.78908523],\n",
       "       [79.57524812],\n",
       "       [37.07629485],\n",
       "       [25.94561661],\n",
       "       [94.75344571],\n",
       "       [44.15945372],\n",
       "       [66.4208102 ],\n",
       "       [55.29013196],\n",
       "       [47.19509324],\n",
       "       [28.98125613],\n",
       "       [41.12381421],\n",
       "       [59.33765132],\n",
       "       [84.63464732],\n",
       "       [50.23073276],\n",
       "       [69.45644972],\n",
       "       [51.2426126 ],\n",
       "       [11.77929885],\n",
       "       [63.38517068],\n",
       "       [33.02877549]])"
      ]
     },
     "execution_count": 41,
     "metadata": {},
     "output_type": "execute_result"
    }
   ],
   "source": [
    "y_pred"
   ]
  },
  {
   "cell_type": "code",
   "execution_count": 42,
   "metadata": {},
   "outputs": [
    {
     "data": {
      "text/plain": [
       "array([[29.31770045],\n",
       "       [91.59548851],\n",
       "       [67.01715955],\n",
       "       [99.43577876],\n",
       "       [49.83051801],\n",
       "       [63.29717058],\n",
       "       [13.25690647],\n",
       "       [69.46306072],\n",
       "       [97.41206981],\n",
       "       [ 9.80523488],\n",
       "       [40.00709598],\n",
       "       [36.11334779],\n",
       "       [92.88772282],\n",
       "       [44.18863945],\n",
       "       [52.28620611],\n",
       "       [31.32274932],\n",
       "       [77.22982636],\n",
       "       [ 6.07939007],\n",
       "       [82.870594  ],\n",
       "       [ 9.3914168 ],\n",
       "       [14.82248589],\n",
       "       [95.12400481],\n",
       "       [40.03504862],\n",
       "       [97.55155344],\n",
       "       [50.17008622],\n",
       "       [18.98322306],\n",
       "       [68.16724757],\n",
       "       [64.37521087],\n",
       "       [19.38780134],\n",
       "       [54.55446979],\n",
       "       [14.86159401],\n",
       "       [31.93063515],\n",
       "       [33.07112825],\n",
       "       [70.3698748 ],\n",
       "       [ 8.67333636],\n",
       "       [92.40217686],\n",
       "       [52.45946688],\n",
       "       [30.41303282],\n",
       "       [ 9.24113898],\n",
       "       [68.5458879 ],\n",
       "       [84.06676818],\n",
       "       [ 2.81141583],\n",
       "       [48.67252645],\n",
       "       [62.60089773],\n",
       "       [51.83503872],\n",
       "       [63.28312382],\n",
       "       [72.86282528],\n",
       "       [18.84798163],\n",
       "       [10.34754461],\n",
       "       [38.05766408],\n",
       "       [59.70864577],\n",
       "       [48.35172635],\n",
       "       [21.71380347],\n",
       "       [16.74923937],\n",
       "       [41.90368917],\n",
       "       [28.15668543],\n",
       "       [97.70342201],\n",
       "       [77.91032969],\n",
       "       [34.12473248],\n",
       "       [25.75612514],\n",
       "       [97.00148372],\n",
       "       [45.96396877],\n",
       "       [67.22008001],\n",
       "       [51.80035866],\n",
       "       [46.69013968],\n",
       "       [26.49487961],\n",
       "       [38.68888682],\n",
       "       [59.10598995],\n",
       "       [83.68820499],\n",
       "       [50.96343637],\n",
       "       [74.45114379],\n",
       "       [56.43046022],\n",
       "       [ 7.46850184],\n",
       "       [61.74063192],\n",
       "       [36.34644189]])"
      ]
     },
     "execution_count": 42,
     "metadata": {},
     "output_type": "execute_result"
    }
   ],
   "source": [
    "y_test"
   ]
  },
  {
   "cell_type": "code",
   "execution_count": 45,
   "metadata": {},
   "outputs": [],
   "source": [
    "from sklearn.metrics import mean_squared_error"
   ]
  },
  {
   "cell_type": "code",
   "execution_count": 46,
   "metadata": {},
   "outputs": [
    {
     "data": {
      "text/plain": [
       "8.937675737817814"
      ]
     },
     "execution_count": 46,
     "metadata": {},
     "output_type": "execute_result"
    }
   ],
   "source": [
    "mean_squared_error(y_pred,y_test)"
   ]
  },
  {
   "cell_type": "code",
   "execution_count": 47,
   "metadata": {},
   "outputs": [
    {
     "data": {
      "text/plain": [
       "array([[1.01187984]])"
      ]
     },
     "execution_count": 47,
     "metadata": {},
     "output_type": "execute_result"
    }
   ],
   "source": [
    "lr.coef_"
   ]
  },
  {
   "cell_type": "code",
   "execution_count": 48,
   "metadata": {},
   "outputs": [
    {
     "data": {
      "text/plain": [
       "array([-0.36325923])"
      ]
     },
     "execution_count": 48,
     "metadata": {},
     "output_type": "execute_result"
    }
   ],
   "source": [
    "lr.intercept_"
   ]
  },
  {
   "cell_type": "code",
   "execution_count": null,
   "metadata": {},
   "outputs": [],
   "source": []
  }
 ],
 "metadata": {
  "kernelspec": {
   "display_name": "Python 3",
   "language": "python",
   "name": "python3"
  },
  "language_info": {
   "codemirror_mode": {
    "name": "ipython",
    "version": 3
   },
   "file_extension": ".py",
   "mimetype": "text/x-python",
   "name": "python",
   "nbconvert_exporter": "python",
   "pygments_lexer": "ipython3",
   "version": "3.8.3"
  }
 },
 "nbformat": 4,
 "nbformat_minor": 4
}
